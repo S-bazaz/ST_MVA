{
 "cells": [
  {
   "cell_type": "markdown",
   "id": "c996ef65-89d4-41b7-85c6-f951fa739178",
   "metadata": {},
   "source": [
    "## Wavelet tests"
   ]
  },
  {
   "cell_type": "code",
   "execution_count": 1,
   "id": "68266a49-530d-4852-9afa-d7bc13882b18",
   "metadata": {},
   "outputs": [
    {
     "name": "stdout",
     "output_type": "stream",
     "text": [
      "C:\\Users\\samud\\Bureau\\Python code\\MVA\\ST\\ST_MVA\\project\n"
     ]
    }
   ],
   "source": [
    "############\n",
    "# Packages #\n",
    "############\n",
    "import os\n",
    "import sys\n",
    "import pickle\n",
    "import numpy as np\n",
    "from pathlib import Path\n",
    "import plotly.io as pio\n",
    "\n",
    "from typing import Dict, Union, List, Tuple, Any, Callable, Optional\n",
    "pio.renderers.default = \"plotly_mimetype+notebook\"\n",
    "################\n",
    "#    Imports   #\n",
    "################\n",
    "\n",
    "root_path = Path(os.getcwd())\n",
    "saving_path = root_path.joinpath(\"outputs\")\n",
    "# root_path should end by \\nonlinear_ICA:\n",
    "print(root_path)\n",
    "sys.path.insert(0, str(root_path))\n",
    "\n",
    "from src.data import (\n",
    "    load_meta,\n",
    "    add_superclasse,\n",
    "    describ_raw_df,\n",
    "    load_ecg,\n",
    "    load_ecg_from_clean_data,\n",
    "    plot_all_st\n",
    ")"
   ]
  },
  {
   "cell_type": "code",
   "execution_count": 2,
   "id": "564bddf5-91aa-4563-af7e-7e62b7736896",
   "metadata": {},
   "outputs": [],
   "source": [
    "################################\n",
    "#  clean meta data  Loading    #\n",
    "################################\n",
    "with open(str(saving_path.joinpath(\"clean_data.pkl\")), \"rb\") as f:\n",
    "    df = pickle.load(f)"
   ]
  },
  {
   "cell_type": "code",
   "execution_count": 3,
   "id": "c0d1a385-1423-40ae-8f16-b6e3c06d22d1",
   "metadata": {},
   "outputs": [
    {
     "name": "stdout",
     "output_type": "stream",
     "text": [
      "signals shapes:  (107,)\n"
     ]
    }
   ],
   "source": [
    "############################\n",
    "#  500hz signals  Loading  #\n",
    "############################\n",
    "signals = load_ecg_from_clean_data(df, root_path, patient_ids = df.loc[1:100,\"patient_id\"].tolist())"
   ]
  },
  {
   "cell_type": "code",
   "execution_count": null,
   "id": "78a0fbcc-b213-4742-bdaa-8b012cbf1ae9",
   "metadata": {},
   "outputs": [],
   "source": []
  }
 ],
 "metadata": {
  "kernelspec": {
   "display_name": "Python 3 (ipykernel)",
   "language": "python",
   "name": "python3"
  },
  "language_info": {
   "codemirror_mode": {
    "name": "ipython",
    "version": 3
   },
   "file_extension": ".py",
   "mimetype": "text/x-python",
   "name": "python",
   "nbconvert_exporter": "python",
   "pygments_lexer": "ipython3",
   "version": "3.9.18"
  }
 },
 "nbformat": 4,
 "nbformat_minor": 5
}
