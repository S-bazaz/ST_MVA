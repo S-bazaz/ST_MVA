{
 "cells": [
  {
   "cell_type": "markdown",
   "id": "129344b1-478e-4294-b844-03a16abf2ed8",
   "metadata": {},
   "source": [
    "## Denoising"
   ]
  },
  {
   "cell_type": "code",
   "execution_count": null,
   "id": "66637744-f378-4713-8785-3c91b71ff95a",
   "metadata": {},
   "outputs": [],
   "source": [
    "############\n",
    "# Packages #\n",
    "############\n",
    "import os\n",
    "import sys\n",
    "import pickle\n",
    "import numpy as np\n",
    "from pathlib import Path\n",
    "\n",
    "import plotly.express as px\n",
    "import plotly.graph_objects as go\n",
    "import plotly.io as pio\n",
    "import seaborn as sns\n",
    "import matplotlib.pyplot as plt\n",
    "\n",
    "import pywt\n",
    "from scipy.signal import periodogram, fftconvolve, cwt\n",
    "\n",
    "from typing import Dict, Union, List, Tuple, Any, Callable, Optional\n",
    "pio.renderers.default = \"plotly_mimetype+notebook\"\n",
    "################\n",
    "#    Imports   #\n",
    "################\n",
    "\n",
    "root_path = Path(os.getcwd())\n",
    "saving_path = root_path.joinpath(\"outputs\")\n",
    "# root_path should end by \\nonlinear_ICA:\n",
    "print(root_path)\n",
    "sys.path.insert(0, str(root_path))\n",
    "\n",
    "from src.data import (\n",
    "    load_ecg_from_clean_data,\n",
    ")\n",
    "\n",
    "from src.plot import (\n",
    "    plot_all_st,\n",
    "    plot_signal,\n",
    "    my_pal,\n",
    "    add_fig,\n",
    "    plot_estim,\n",
    ")"
   ]
  },
  {
   "cell_type": "code",
   "execution_count": null,
   "id": "8f3ccff0-bb23-4277-9419-7c3a87651887",
   "metadata": {},
   "outputs": [],
   "source": [
    "################################\n",
    "#  clean meta data  Loading    #\n",
    "################################\n",
    "with open(str(saving_path.joinpath(\"clean_data.pkl\")), \"rb\") as f:\n",
    "    df = pickle.load(f)\n",
    "print(df.head())"
   ]
  },
  {
   "cell_type": "code",
   "execution_count": null,
   "id": "26cc7ede-ffb4-4c71-9fc1-df00e7c4eab1",
   "metadata": {},
   "outputs": [],
   "source": [
    "signals = load_ecg_from_clean_data(df, root_path, patient_ids = df.loc[1:100,\"patient_id\"].tolist())\n",
    "signal = signals[0][:,0]"
   ]
  },
  {
   "cell_type": "markdown",
   "id": "17d085fb-9f3d-4508-96fd-7f74ee12dcfa",
   "metadata": {},
   "source": [
    "### Low pass filter"
   ]
  },
  {
   "cell_type": "markdown",
   "id": "261576e5-84a2-4127-9c85-bf7c0f593153",
   "metadata": {},
   "source": [
    "On peut utiliser un seuil sur les valeurs de la représentation en ondelette pour éliminer le bruit.\n",
    "la "
   ]
  },
  {
   "cell_type": "code",
   "execution_count": null,
   "id": "9a77ebe2-b719-45d9-bb7b-e2817522e1e5",
   "metadata": {},
   "outputs": [],
   "source": [
    "def lowpassfilter(signal, thresh = 0.63, wavelet=\"db4\", mode = \"soft\"):\n",
    "    thresh = thresh*np.nanmax(signal)\n",
    "    coeffs = pywt.wavedec(signal, wavelet, mode=\"per\" )\n",
    "    coeffs[1:] = (pywt.threshold(coeff, value=thresh, mode=mode ) for coeff in coeffs[1:]) # modification de la représentation\n",
    "    new_signal = pywt.waverec(coeffs, wavelet, mode=\"per\" )\n",
    "    return new_signal\n"
   ]
  },
  {
   "cell_type": "code",
   "execution_count": null,
   "id": "2dec568b-cd58-4597-8d38-f421c0eb66e5",
   "metadata": {},
   "outputs": [],
   "source": [
    "fig = go.Figure(\n",
    "        layout=go.Layout(\n",
    "            height=600, \n",
    "            width=800, \n",
    "            template = \"plotly_dark\", \n",
    "            title = f\"Low pass using Daubechy\"\n",
    "    ))\n",
    "\n",
    "pal = my_pal(20)\n",
    "\n",
    "k = 0\n",
    "for wavename in [\"db5\", \"db10\"]:\n",
    "    for thresh in np.linspace(0.1, 0.9, 5):\n",
    "        for mode in [\"soft\", \"hard\"]:\n",
    "            new_sign = lowpassfilter(signal, thresh = thresh, wavelet=wavename, mode = mode)\n",
    "            add_fig(fig, new_sign, pal[k] ,f\"{wavename} {mode} threshold = {np.round(thresh,2)}\")\n",
    "            k+=1\n",
    "fig.show()"
   ]
  },
  {
   "cell_type": "markdown",
   "id": "033eed2a-41cf-4493-a7bd-12e692070cea",
   "metadata": {},
   "source": [
    "la regularité de l'ondelette se retrouve dans le signal filtré"
   ]
  },
  {
   "cell_type": "markdown",
   "id": "77733f68-4125-43ec-8eae-f2ccc65ac203",
   "metadata": {},
   "source": [
    "## Debruitage par méthode proximale"
   ]
  },
  {
   "cell_type": "code",
   "execution_count": null,
   "id": "d2ca9b2e-fc1c-49f4-be32-c92410a67fc6",
   "metadata": {},
   "outputs": [],
   "source": [
    "def q_power_proximal(q, χ, ξ):\n",
    "    \"\"\"\n",
    "    Compute the proximal of the power q function\n",
    "    scaled to χ at point ξ\n",
    "    \n",
    "    Parameters\n",
    "    ----------\n",
    "    q : float\n",
    "        Exponent in the power function\n",
    "        Available: q = {1, 4/3, 3/2, 2, 3, 4}\n",
    "        \n",
    "    χ : float\n",
    "        Regularization parameter\n",
    "        \n",
    "    ξ : float\n",
    "        Point at which to compute the proximal operator\n",
    "    \n",
    "    Returns\n",
    "    ---------\n",
    "    prox : numpy.array\n",
    "        Value of the proximal of the q power function\n",
    "        at point ξ\n",
    "    \n",
    "    \"\"\"\n",
    "    Q_VALUES = [1.0, 4/3, 3/2, 2., 3., 4.]\n",
    "    \n",
    "    if q not in Q_VALUES:\n",
    "        raise ValueError(f\"q ({q}) does not belong in the expected \"\n",
    "                         f\"values: {Q_VALUES}\")\n",
    "        \n",
    "    prox = None\n",
    "    \n",
    "    if q == 1.0:\n",
    "        prox = np.sign(ξ) * np.maximum(np.abs(ξ) - χ, 0)\n",
    "    elif q == 4/3:\n",
    "        ϵ = np.sqrt(ξ**2 + 256 / 729 * χ ** 3)\n",
    "        prox = ξ + 4 * χ / (3 * 2 ** (1/3)) * ((ϵ - ξ) ** (1/3) - (ϵ + ξ) ** (1/3))\n",
    "    elif q == 3/2:\n",
    "        prox = ξ + 9 * χ ** 2 * np.sign(ξ) / 8 * (1 - np.sqrt(1 + 16 * np.abs(ξ) / (9 * χ ** 2)))\n",
    "    elif q == 2:\n",
    "        prox = ξ / (1 + 2 * χ)                    \n",
    "    elif q == 3.:\n",
    "        prox = np.sign(ξ) * (np.sqrt(1 + 12 * χ * np.abs(ξ)) - 1) / (6 * χ)\n",
    "    elif q == 4.:\n",
    "        ϵ = np.sqrt(ξ ** 2 + 1 / (27 * χ))\n",
    "        prox = ((ϵ + ξ) / (8 * χ)) ** (1/3) - ((ϵ - ξ) / (8 * χ)) ** (1/3)\n",
    "        \n",
    "    return prox"
   ]
  },
  {
   "cell_type": "code",
   "execution_count": null,
   "id": "6516f748-581e-4021-a0ae-47b2c6e2eb7a",
   "metadata": {},
   "outputs": [],
   "source": [
    "def get_prox_denoise(signal, wavelet=\"db4\", reg_power = 1, reg_cst = 10):\n",
    "    coeffs = pywt.wavedec(signal, wavelet, mode=\"per\" )\n",
    "    coeffs[1:] = ( q_power_proximal(reg_power, reg_cst, coeff) for coeff in coeffs[1:]) # modification de la représentation\n",
    "    new_signal = pywt.waverec(coeffs, wavelet, mode=\"per\" )\n",
    "    return new_signal"
   ]
  },
  {
   "cell_type": "code",
   "execution_count": null,
   "id": "24223594-9e8f-40c5-81bb-c66341363180",
   "metadata": {},
   "outputs": [],
   "source": [
    "fig = go.Figure(\n",
    "        layout=go.Layout(\n",
    "            height=600, \n",
    "            width=800, \n",
    "            template = \"plotly_dark\", \n",
    "            title = f\"Power proximal using Daubechy\"\n",
    "    ))\n",
    "\n",
    "pal = my_pal(40)\n",
    "\n",
    "k = 0\n",
    "for wavename in [\"db5\", \"db10\", \"db30\"]:\n",
    "    for reg_power in [1.0, 4/3, 3/2]:\n",
    "        for reg_cst in np.linspace(1e-1, 6e-1, 4):\n",
    "            new_sign = get_prox_denoise(signal, wavelet=wavename, reg_power = reg_power, reg_cst = reg_cst)\n",
    "            add_fig(fig, new_sign, pal[k] ,f\"{wavename} power {np.round(reg_power,2)} reg_cst = {np.round(reg_cst,2)}\")\n",
    "            k+=1\n",
    "fig.show()"
   ]
  },
  {
   "cell_type": "markdown",
   "id": "ada33460-664b-41fe-9777-6c6b6d72e5ea",
   "metadata": {},
   "source": [
    "Il ne faut pas prendre une ondellette trop régulière au risque d'éliminer les pics.\n",
    "Plus la puissance augmente, moins le denoising est forts. On remarque que cette approche est moins sensible que le filtrage par seuil."
   ]
  },
  {
   "cell_type": "code",
   "execution_count": null,
   "id": "c41ddf6b-be18-40cf-ba71-e347f9e7fd65",
   "metadata": {},
   "outputs": [],
   "source": []
  }
 ],
 "metadata": {
  "kernelspec": {
   "display_name": "Python 3 (ipykernel)",
   "language": "python",
   "name": "python3"
  },
  "language_info": {
   "codemirror_mode": {
    "name": "ipython",
    "version": 3
   },
   "file_extension": ".py",
   "mimetype": "text/x-python",
   "name": "python",
   "nbconvert_exporter": "python",
   "pygments_lexer": "ipython3",
   "version": "3.9.18"
  }
 },
 "nbformat": 4,
 "nbformat_minor": 5
}
