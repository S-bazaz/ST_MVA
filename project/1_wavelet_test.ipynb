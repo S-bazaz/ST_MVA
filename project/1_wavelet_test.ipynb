{
 "cells": [
  {
   "cell_type": "markdown",
   "id": "c996ef65-89d4-41b7-85c6-f951fa739178",
   "metadata": {},
   "source": [
    "## Wavelet tests"
   ]
  },
  {
   "cell_type": "code",
   "execution_count": null,
   "id": "68266a49-530d-4852-9afa-d7bc13882b18",
   "metadata": {},
   "outputs": [],
   "source": [
    "############\n",
    "# Packages #\n",
    "############\n",
    "import os\n",
    "import sys\n",
    "import pickle\n",
    "import numpy as np\n",
    "from pathlib import Path\n",
    "\n",
    "import plotly.express as px\n",
    "import plotly.graph_objects as go\n",
    "import plotly.io as pio\n",
    "import seaborn as sns\n",
    "\n",
    "import pywt\n",
    "from scipy.signal import periodogram, fftconvolve, cwt\n",
    "\n",
    "from typing import Dict, Union, List, Tuple, Any, Callable, Optional\n",
    "pio.renderers.default = \"plotly_mimetype+notebook\"\n",
    "################\n",
    "#    Imports   #\n",
    "################\n",
    "\n",
    "root_path = Path(os.getcwd())\n",
    "saving_path = root_path.joinpath(\"outputs\")\n",
    "# root_path should end by \\nonlinear_ICA:\n",
    "print(root_path)\n",
    "sys.path.insert(0, str(root_path))\n",
    "\n",
    "from src.data import (\n",
    "    load_meta,\n",
    "    add_superclasse,\n",
    "    describ_raw_df,\n",
    "    load_ecg,\n",
    "    load_ecg_from_clean_data,\n",
    "    plot_all_st\n",
    ")"
   ]
  },
  {
   "cell_type": "code",
   "execution_count": null,
   "id": "564bddf5-91aa-4563-af7e-7e62b7736896",
   "metadata": {},
   "outputs": [],
   "source": [
    "################################\n",
    "#  clean meta data  Loading    #\n",
    "################################\n",
    "with open(str(saving_path.joinpath(\"clean_data.pkl\")), \"rb\") as f:\n",
    "    df = pickle.load(f)"
   ]
  },
  {
   "cell_type": "code",
   "execution_count": null,
   "id": "c0d1a385-1423-40ae-8f16-b6e3c06d22d1",
   "metadata": {},
   "outputs": [],
   "source": [
    "############################\n",
    "#  500hz signals  Loading  #\n",
    "############################\n",
    "signals = load_ecg_from_clean_data(df, root_path, patient_ids = df.loc[1:100,\"patient_id\"].tolist())"
   ]
  },
  {
   "cell_type": "code",
   "execution_count": null,
   "id": "78a0fbcc-b213-4742-bdaa-8b012cbf1ae9",
   "metadata": {},
   "outputs": [],
   "source": [
    "plot_all_st(signals[0].T, clustering=None, title=\"<b>Signals 500Hz</b> patient 0\")"
   ]
  },
  {
   "cell_type": "markdown",
   "id": "491c0ffd-6ed4-45ba-b60b-83b640f5b634",
   "metadata": {},
   "source": [
    "### Wavelets mothers and fathers"
   ]
  },
  {
   "cell_type": "code",
   "execution_count": null,
   "id": "adef232f-15c2-4e96-ab3e-6102e8ade761",
   "metadata": {},
   "outputs": [],
   "source": [
    "def add_fig(fig, signal, color, name):\n",
    "    fig.add_trace(go.Scatter(y=signal, \n",
    "                 mode=\"lines\", \n",
    "                 line=dict(\n",
    "                     width=2,\n",
    "                     color=color,\n",
    "                 ),\n",
    "                 opacity = 0.6,\n",
    "                 name=name\n",
    "                )\n",
    "             )\n",
    "\n",
    "def add_fig_continuous(level, w, fig, signal, color, wave):\n",
    "    psi, x = w.wavefun(level=level)\n",
    "    add_fig(fig, phi, color, f\"{wave} wavelet continuous function psi\")\n",
    "\n",
    "def add_fig_discret_ortho(level, w, fig, signal, color, wave):\n",
    "    (phi, psi, x) = w.wavefun(level=level)\n",
    "    add_fig(fig, phi, color, f\"{wave} scaling function phi\")\n",
    "    add_fig(fig, psi, color, f\"{wave} wavelet function psi\")\n",
    "\n",
    "def add_fig_discret_biortho(level, w, fig, signal, color, wave):\n",
    "    (phi_d, psi_d, phi_r, psi_r, x) = w.wavefun(level=level)\n",
    "    add_fig(fig, phi_d, color, f\"{wave} decomposition scaling phi_d\")\n",
    "    add_fig(fig, psi_d, color, f\"{wave} decomposition wavelet psi_d\")\n",
    "    add_fig(fig, phi_r, color, f\"{wave} reconstruction scaling phi_r\")\n",
    "    add_fig(fig, psi_r, color, f\"{wave} reconstruction wavelet psi_r\")\n",
    "\n",
    "def plot_wave_family(level, type, iscontinous = False):\n",
    "    lst_wave = pywt.wavelist(type)\n",
    "    nwave = len(lst_wave)\n",
    "    pal = sns.color_palette(\"Spectral\", nwave).as_hex()\n",
    "    fig = go.Figure(\n",
    "        layout=go.Layout(\n",
    "            height=600, \n",
    "            width=800, \n",
    "            template = \"plotly_dark\", \n",
    "            title = f\"Wavelets {type}\"\n",
    "    ))\n",
    "    \n",
    "    for i in range(nwave):\n",
    "        wave = lst_wave[i]\n",
    "        w = pywt.DiscreteContinuousWavelet(wave)\n",
    "        if iscontinous:\n",
    "            # w = pywt.ContinuousWavelet(wave)\n",
    "            add_fig_continuous(level, w, fig, signal, pal[i], wave)\n",
    "        else:\n",
    "            # w = pywt.Wavelet(wave)\n",
    "            if w.orthogonal:\n",
    "                add_fig_discret_ortho(level, w, fig, signal, pal[i], wave)\n",
    "            else:\n",
    "                add_fig_discret_biortho(level, w, fig, signal, pal[i], wave)\n",
    "\n",
    "    fig.update_layout(title = w.family_name + f\" code={type}  level = {level} \")\n",
    "    fig.show()    "
   ]
  },
  {
   "cell_type": "code",
   "execution_count": null,
   "id": "e955c592-31ed-41c0-8e61-8766d0e980fa",
   "metadata": {},
   "outputs": [],
   "source": [
    "level = 5\n",
    "\n",
    "lst_types = pywt.families()\n",
    "sep_continous = lst_types.index(\"gaus\")\n",
    "\n",
    "lst_discret = lst_types[:sep_continous]\n",
    "lst_continuous = lst_types[sep_continous:]\n",
    "\n",
    "for type in lst_discret:\n",
    "    plot_wave_family(level, type, iscontinous = False)\n",
    "    \n",
    "for type in lst_continuous:\n",
    "    plot_wave_family(level, type, iscontinous = True)"
   ]
  },
  {
   "cell_type": "code",
   "execution_count": null,
   "id": "f998961b-380f-4a22-b141-9102187cbb76",
   "metadata": {},
   "outputs": [],
   "source": [
    "for level in range(1,10,2 ):\n",
    "    plot_wave_family(level, \"db\", iscontinous = False)\n",
    "    \n",
    "for level in range(1,10,2):\n",
    "    plot_wave_family(level, \"morl\", iscontinous = True)"
   ]
  },
  {
   "cell_type": "markdown",
   "id": "93a9668f-d100-4df5-a2f0-b269b01122d8",
   "metadata": {},
   "source": [
    "### Discrete Wavelet Transform"
   ]
  },
  {
   "cell_type": "code",
   "execution_count": null,
   "id": "77e7b801-7659-457f-86c6-40d929f03ed4",
   "metadata": {},
   "outputs": [],
   "source": [
    "def plot_signal(vec, title = \"signal\"):\n",
    "    fig = px.line(vec, template = \"plotly_dark\", title = title)\n",
    "    fig.show()"
   ]
  },
  {
   "cell_type": "code",
   "execution_count": null,
   "id": "9f929576-acaa-450c-b8c8-140e2a43481b",
   "metadata": {},
   "outputs": [],
   "source": [
    "signal = signals[0][:,0]\n",
    "\n",
    "plot_signal(signal, title = \"test signal: patient 0 elctrode 0\")"
   ]
  },
  {
   "cell_type": "markdown",
   "id": "95402d44-dcc9-45ce-b006-af5c9aebeef3",
   "metadata": {},
   "source": [
    "A partir de la décomposition en ondellette on obtient l'approximation et le détail (ie le reste)"
   ]
  },
  {
   "cell_type": "code",
   "execution_count": null,
   "id": "b85ff5aa-e86c-4789-8723-b86a8d2b5cc8",
   "metadata": {},
   "outputs": [],
   "source": []
  }
 ],
 "metadata": {
  "kernelspec": {
   "display_name": "Python 3 (ipykernel)",
   "language": "python",
   "name": "python3"
  },
  "language_info": {
   "codemirror_mode": {
    "name": "ipython",
    "version": 3
   },
   "file_extension": ".py",
   "mimetype": "text/x-python",
   "name": "python",
   "nbconvert_exporter": "python",
   "pygments_lexer": "ipython3",
   "version": "3.9.18"
  }
 },
 "nbformat": 4,
 "nbformat_minor": 5
}
