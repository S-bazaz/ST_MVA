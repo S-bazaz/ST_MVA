{
 "cells": [
  {
   "cell_type": "markdown",
   "id": "c996ef65-89d4-41b7-85c6-f951fa739178",
   "metadata": {},
   "source": [
    "## Wavelet tests"
   ]
  },
  {
   "cell_type": "code",
   "execution_count": null,
   "id": "68266a49-530d-4852-9afa-d7bc13882b18",
   "metadata": {},
   "outputs": [],
   "source": [
    "############\n",
    "# Packages #\n",
    "############\n",
    "import os\n",
    "import sys\n",
    "import pickle\n",
    "import numpy as np\n",
    "from pathlib import Path\n",
    "\n",
    "import plotly.express as px\n",
    "import plotly.graph_objects as go\n",
    "import plotly.io as pio\n",
    "import seaborn as sns\n",
    "import matplotlib.pyplot as plt\n",
    "\n",
    "import pywt\n",
    "from scipy.signal import periodogram, fftconvolve, cwt\n",
    "\n",
    "from typing import Dict, Union, List, Tuple, Any, Callable, Optional\n",
    "pio.renderers.default = \"plotly_mimetype+notebook\"\n",
    "################\n",
    "#    Imports   #\n",
    "################\n",
    "\n",
    "root_path = Path(os.getcwd())\n",
    "saving_path = root_path.joinpath(\"outputs\")\n",
    "# root_path should end by \\nonlinear_ICA:\n",
    "print(root_path)\n",
    "sys.path.insert(0, str(root_path))\n",
    "\n",
    "from src.data import (\n",
    "    load_meta,\n",
    "    add_superclasse,\n",
    "    describ_raw_df,\n",
    "    load_ecg,\n",
    "    load_ecg_from_clean_data,\n",
    "    plot_all_st\n",
    ")"
   ]
  },
  {
   "cell_type": "code",
   "execution_count": null,
   "id": "564bddf5-91aa-4563-af7e-7e62b7736896",
   "metadata": {},
   "outputs": [],
   "source": [
    "################################\n",
    "#  clean meta data  Loading    #\n",
    "################################\n",
    "with open(str(saving_path.joinpath(\"clean_data.pkl\")), \"rb\") as f:\n",
    "    df = pickle.load(f)"
   ]
  },
  {
   "cell_type": "code",
   "execution_count": null,
   "id": "c0d1a385-1423-40ae-8f16-b6e3c06d22d1",
   "metadata": {},
   "outputs": [],
   "source": [
    "############################\n",
    "#  500hz signals  Loading  #\n",
    "############################\n",
    "signals = load_ecg_from_clean_data(df, root_path, patient_ids = df.loc[1:100,\"patient_id\"].tolist())"
   ]
  },
  {
   "cell_type": "code",
   "execution_count": null,
   "id": "78a0fbcc-b213-4742-bdaa-8b012cbf1ae9",
   "metadata": {},
   "outputs": [],
   "source": [
    "plot_all_st(signals[0].T, clustering=None, title=\"<b>Signals 500Hz</b> patient 0\")"
   ]
  },
  {
   "cell_type": "markdown",
   "id": "491c0ffd-6ed4-45ba-b60b-83b640f5b634",
   "metadata": {},
   "source": [
    "### Wavelets mothers and fathers"
   ]
  },
  {
   "cell_type": "code",
   "execution_count": null,
   "id": "adef232f-15c2-4e96-ab3e-6102e8ade761",
   "metadata": {},
   "outputs": [],
   "source": [
    "def add_fig(fig, signal, color, name):\n",
    "    fig.add_trace(go.Scatter(y=signal, \n",
    "                 mode=\"lines\", \n",
    "                 line=dict(\n",
    "                     width=2,\n",
    "                     color=color,\n",
    "                 ),\n",
    "                 opacity = 0.6,\n",
    "                 name=name\n",
    "                )\n",
    "             )\n",
    "\n",
    "def add_fig_continuous(level, w, fig, signal, color, wave):\n",
    "    psi, x = w.wavefun(level=level)\n",
    "    if not w.complex_cwt:\n",
    "        add_fig(fig, psi, color, f\"{wave} wavelet continuous function psi\")\n",
    "    else:\n",
    "        add_fig(fig, np.real(psi), color, f\"{wave} wavelet continuous function psi real part\")\n",
    "\n",
    "def add_fig_discret_ortho(level, w, fig, signal, color, wave):\n",
    "    (phi, psi, x) = w.wavefun(level=level)\n",
    "    add_fig(fig, phi, color, f\"{wave} scaling function phi\")\n",
    "    add_fig(fig, psi, color, f\"{wave} wavelet function psi\")\n",
    "\n",
    "def add_fig_discret_biortho(level, w, fig, signal, color, wave):\n",
    "    (phi_d, psi_d, phi_r, psi_r, x) = w.wavefun(level=level)\n",
    "    add_fig(fig, phi_d, color, f\"{wave} decomposition scaling phi_d\")\n",
    "    add_fig(fig, psi_d, color, f\"{wave} decomposition wavelet psi_d\")\n",
    "    add_fig(fig, phi_r, color, f\"{wave} reconstruction scaling phi_r\")\n",
    "    add_fig(fig, psi_r, color, f\"{wave} reconstruction wavelet psi_r\")\n",
    "\n",
    "def my_pal(n):\n",
    "    return sns.color_palette(\"Spectral\", n).as_hex()\n",
    "\n",
    "def plot_wave_family(level, type, iscontinous = False):\n",
    "    lst_wave = pywt.wavelist(type)\n",
    "    nwave = len(lst_wave)\n",
    "    pal = my_pal(nwave)\n",
    "    fig = go.Figure(\n",
    "        layout=go.Layout(\n",
    "            height=600, \n",
    "            width=800, \n",
    "            template = \"plotly_dark\", \n",
    "            title = f\"Wavelets {type}\"\n",
    "    ))\n",
    "    \n",
    "    for i in range(nwave):\n",
    "        wave = lst_wave[i]\n",
    "        w = pywt.DiscreteContinuousWavelet(wave)\n",
    "        if iscontinous:\n",
    "            # w = pywt.ContinuousWavelet(wave)\n",
    "            add_fig_continuous(level, w, fig, signal, pal[i], wave)\n",
    "        else:\n",
    "            # w = pywt.Wavelet(wave)\n",
    "            if w.orthogonal:\n",
    "                add_fig_discret_ortho(level, w, fig, signal, pal[i], wave)\n",
    "            else:\n",
    "                add_fig_discret_biortho(level, w, fig, signal, pal[i], wave)\n",
    "\n",
    "    fig.update_layout(title = w.family_name + f\" code={type}  level = {level} \")\n",
    "    fig.show()    "
   ]
  },
  {
   "cell_type": "code",
   "execution_count": null,
   "id": "e955c592-31ed-41c0-8e61-8766d0e980fa",
   "metadata": {},
   "outputs": [],
   "source": [
    "level = 5\n",
    "\n",
    "lst_types = pywt.families()\n",
    "sep_continous = lst_types.index(\"gaus\")\n",
    "\n",
    "lst_discret = lst_types[:sep_continous]\n",
    "lst_continuous = lst_types[sep_continous:]\n",
    "\n",
    "for type in lst_discret:\n",
    "    plot_wave_family(level, type, iscontinous = False)\n",
    "    \n",
    "for type in lst_continuous:\n",
    "    plot_wave_family(level, type, iscontinous = True)"
   ]
  },
  {
   "cell_type": "code",
   "execution_count": null,
   "id": "f998961b-380f-4a22-b141-9102187cbb76",
   "metadata": {},
   "outputs": [],
   "source": [
    "for level in range(1,10,2 ):\n",
    "    plot_wave_family(level, \"db\", iscontinous = False)\n",
    "    \n",
    "for level in range(1,10,2):\n",
    "    plot_wave_family(level, \"morl\", iscontinous = True)"
   ]
  },
  {
   "cell_type": "markdown",
   "id": "93a9668f-d100-4df5-a2f0-b269b01122d8",
   "metadata": {},
   "source": [
    "### Discrete Wavelet Transform"
   ]
  },
  {
   "cell_type": "code",
   "execution_count": null,
   "id": "77e7b801-7659-457f-86c6-40d929f03ed4",
   "metadata": {},
   "outputs": [],
   "source": [
    "def plot_signal(vec, title = \"signal\"):\n",
    "    fig = px.line(vec, template = \"plotly_dark\", title = title)\n",
    "    fig.show()\n",
    "\n",
    "def plot_estim(xb, true_x, title = \"estimate xbar\"):\n",
    "    fig = px.line(xb, template = \"plotly_dark\", title = title)\n",
    "    fig.add_traces(\n",
    "    list(px.line(true_x.copy()).select_traces())\n",
    "    )\n",
    "    fig.data[0].line.color = \"red\"\n",
    "    fig.show()"
   ]
  },
  {
   "cell_type": "code",
   "execution_count": null,
   "id": "9f929576-acaa-450c-b8c8-140e2a43481b",
   "metadata": {},
   "outputs": [],
   "source": [
    "signal = signals[0][:,0]\n",
    "\n",
    "plot_signal(signal, title = \"test signal: patient 0 electrode 0\")"
   ]
  },
  {
   "cell_type": "markdown",
   "id": "95402d44-dcc9-45ce-b006-af5c9aebeef3",
   "metadata": {},
   "source": [
    "A partir de la décomposition en ondellette on obtient l'approximation et le détail (ie le reste)"
   ]
  },
  {
   "cell_type": "code",
   "execution_count": null,
   "id": "b85ff5aa-e86c-4789-8723-b86a8d2b5cc8",
   "metadata": {},
   "outputs": [],
   "source": [
    "approx, detail = pywt.dwt(signal, 'db2')\n",
    "\n",
    "plot_signal(approx, title = \"Approximation coefficients\")\n",
    "plot_signal(detail, title = \"Details coefficients\")\n",
    "\n",
    "# on reconstruit le signal"
   ]
  },
  {
   "cell_type": "code",
   "execution_count": null,
   "id": "fe9e327f-771b-4d51-9087-2f5c54588770",
   "metadata": {},
   "outputs": [],
   "source": [
    "# change les détails\n",
    "estim = pywt.idwt(approx, np.zeros_like(detail), 'db2')\n",
    "#change detail\n",
    "plot_estim(estim, signal, title = \"Wavelet reconstruction\")"
   ]
  },
  {
   "cell_type": "code",
   "execution_count": null,
   "id": "74cc7700-5235-4c58-b01f-86742c238232",
   "metadata": {},
   "outputs": [],
   "source": [
    "w = pywt.DiscreteContinuousWavelet(\"sym3\")\n",
    "approx2, detail2 = pywt.dwt(signal, wavelet=w, mode=\"constant\")\n",
    "plot_signal(approx, title = \"Approximation coefficients\")\n",
    "plot_signal(detail, title = \"Details coefficients\")\n",
    "\n",
    "estim2 = pywt.idwt(approx2, np.zeros_like(detail2), \"sym3\")\n",
    "plot_estim(estim2, signal, title = \"Wavelet reconstruction 2\")"
   ]
  },
  {
   "cell_type": "markdown",
   "id": "e9e1b7b6-ab45-4b6e-9090-db30aec36902",
   "metadata": {},
   "source": [
    "## Multilevel DWT, IDWT"
   ]
  },
  {
   "cell_type": "code",
   "execution_count": null,
   "id": "a27fc74c-3b73-437e-9ef7-041b6a75fd0e",
   "metadata": {},
   "outputs": [],
   "source": [
    "w = pywt.DiscreteContinuousWavelet(\"sym3\")\n",
    "\n",
    "coeffs = pywt.wavedec(signal, w, level = 5 )\n",
    "fig = go.Figure(\n",
    "        layout=go.Layout(\n",
    "            height=600, \n",
    "            width=800, \n",
    "            template = \"plotly_dark\", \n",
    "            title = f\"Wavelets multilevel decomposition\"\n",
    "    ))\n",
    "pal = my_pal(len(coeffs))\n",
    "\n",
    "for i,coeff in enumerate(coeffs):\n",
    "    add_fig(fig, coeff, pal[i] ,f\"coeff {i}\")\n",
    "fig.show()"
   ]
  },
  {
   "cell_type": "code",
   "execution_count": null,
   "id": "32f2e5b8-9568-4a2d-bc10-d3e722984184",
   "metadata": {},
   "outputs": [],
   "source": [
    "\n",
    "\n",
    "fig = go.Figure(\n",
    "        layout=go.Layout(\n",
    "            height=600, \n",
    "            width=800, \n",
    "            template = \"plotly_dark\", \n",
    "            title = f\"Wavelets multilevel reconstruction\"\n",
    "    ))\n",
    "pal = my_pal(len(coeffs))\n",
    "\n",
    "coeffs2 = [np.zeros_like(coeff) for coeff in coeffs]\n",
    "\n",
    "for i,coeff in enumerate(coeffs):\n",
    "    coeffs2[i] = coeff\n",
    "    add_fig(fig, pywt.waverec(coeffs2, w), pal[i] ,f\"add coeff {i}\")\n",
    "fig.show()\n"
   ]
  },
  {
   "cell_type": "markdown",
   "id": "30efb540-fc04-4b29-95f9-9124fca85775",
   "metadata": {},
   "source": [
    "### SWT"
   ]
  },
  {
   "cell_type": "markdown",
   "id": "634980b4-23df-45e4-93ba-4c54f614dce7",
   "metadata": {},
   "source": [
    "The stationary wavelet transform (SWT) is a wavelet transform algorithm designed to overcome the lack of translation-invariance of the discrete wavelet transform (DWT). Translation-invariance is achieved by removing the downsamplers and upsamplers in the DWT and upsampling the filter coefficients by a factor of jth level of the algorithm. The SWT is an inherently redundant scheme as the output of each level of SWT contains the same number of samples as the input – so for a decomposition of N levels there is a redundancy of N in the wavelet coefficients. This algorithm is more famously known as \"algorithme à trous\" in French (word trous means holes in English) which refers to inserting zeros in the filters. It was introduced by Holschneider et al."
   ]
  },
  {
   "cell_type": "code",
   "execution_count": null,
   "id": "2d9594fa-6344-468b-a980-4d17f079272f",
   "metadata": {},
   "outputs": [],
   "source": [
    "(cA2, cD2), (cA1, cD1) = pywt.swt(signal, w, level=2)"
   ]
  },
  {
   "cell_type": "code",
   "execution_count": null,
   "id": "18330ec5-b23d-4ea0-8971-3ed6286b4d1a",
   "metadata": {},
   "outputs": [],
   "source": [
    "fig = go.Figure(\n",
    "        layout=go.Layout(\n",
    "            height=600, \n",
    "            width=800, \n",
    "            template = \"plotly_dark\", \n",
    "            title = f\"Stationary wavelet transform\"\n",
    "    ))\n",
    "pal = my_pal(4)\n",
    "\n",
    "add_fig(fig, cA1, pal[0] ,f\"Aproximation 1\")\n",
    "add_fig(fig, cD1, pal[1] ,f\"Detail 1\")\n",
    "add_fig(fig, cA2, pal[2] ,f\"Aproximation 2\")\n",
    "add_fig(fig, cD2, pal[3] ,f\"Detail 2\")\n",
    "add_fig(fig, cA2, \"blue\" ,f\"Signal\")\n",
    "fig.show()"
   ]
  },
  {
   "cell_type": "code",
   "execution_count": null,
   "id": "45321af8-0b53-449a-bf95-887c5f130edb",
   "metadata": {},
   "outputs": [],
   "source": [
    "#on a une relation de récurrence sur la définition des niveau : \n",
    "# [(cA2, cD2)] = pywt.swt(cA1, db1, level=1, start_level=1)"
   ]
  },
  {
   "cell_type": "code",
   "execution_count": null,
   "id": "ad54c4e8-0539-4163-8262-3bda5a5b4db3",
   "metadata": {},
   "outputs": [],
   "source": [
    "coeffs_swt = pywt.swt(signal, w)\n",
    "print(len(coeffs_swt))"
   ]
  },
  {
   "cell_type": "code",
   "execution_count": null,
   "id": "abdeb640-88a0-445e-b791-9fb977ff98c0",
   "metadata": {},
   "outputs": [],
   "source": [
    "fig = go.Figure(\n",
    "        layout=go.Layout(\n",
    "            height=600, \n",
    "            width=800, \n",
    "            template = \"plotly_dark\", \n",
    "            title = f\"details SWT\"\n",
    "    ))\n",
    "pal = my_pal(len(coeffs))\n",
    "\n",
    "\n",
    "for i,coeff in enumerate(coeffs_swt):\n",
    "    detail = coeffs_swt[i][1]\n",
    "    add_fig(fig, detail, pal[i] ,f\"detail {len(coeffs)-i}\")\n",
    "fig.show()"
   ]
  },
  {
   "cell_type": "markdown",
   "id": "34ec5bfe-8053-408f-a823-09f310a90b75",
   "metadata": {},
   "source": [
    "On a bien invariance par translation sur la représentation"
   ]
  },
  {
   "cell_type": "markdown",
   "id": "3066726a-690e-4cbb-98f4-1f576fbba2ce",
   "metadata": {},
   "source": [
    "### Wavelet packet"
   ]
  },
  {
   "cell_type": "markdown",
   "id": "6fc4487b-5158-45ff-9493-5ab6983428e9",
   "metadata": {},
   "source": [
    "wavelet packets or subband tree,  is discrete-time (sampled) signal is passed through more filters than the discrete wavelet transform (DWT).In the DWT, each level is calculated by passing only the previous wavelet approximation coefficients (cAj) through discrete-time low- and high-pass quadrature mirror filters. However, in the WPD, both the detail (cDj (in the 1-D case), cHj, cVj, cDj (in the 2-D case)) and approximation coefficients are decomposed to create the full binary tree.\n",
    "\n",
    "There are several algorithms for subband tree structuring that find a set of optimal bases that provide the most desirable representation of the data relative to a particular cost function (entropy, energy compaction, etc.)"
   ]
  },
  {
   "cell_type": "code",
   "execution_count": null,
   "id": "052d0883-40cc-41ab-b4de-c7a8ee4259a4",
   "metadata": {},
   "outputs": [],
   "source": [
    "wp = pywt.WaveletPacket(data=signal, wavelet=w)"
   ]
  },
  {
   "cell_type": "code",
   "execution_count": null,
   "id": "c4e51bc9-9739-4cd6-94c3-b835c9b6c459",
   "metadata": {},
   "outputs": [],
   "source": [
    "print(wp.maxlevel)"
   ]
  },
  {
   "cell_type": "markdown",
   "id": "3228ad76-8f32-4e55-a77b-7d6b434d6ba1",
   "metadata": {},
   "source": [
    "#### Un arbre de données"
   ]
  },
  {
   "cell_type": "code",
   "execution_count": null,
   "id": "f38c0077-f1dc-4941-b876-13bdaa02ef89",
   "metadata": {},
   "outputs": [],
   "source": [
    "print(wp.data)"
   ]
  },
  {
   "cell_type": "code",
   "execution_count": null,
   "id": "904142a6-6fca-4bb6-a2a9-7df4dce287ae",
   "metadata": {},
   "outputs": [],
   "source": [
    "print(wp[\"a\"].data)"
   ]
  },
  {
   "cell_type": "markdown",
   "id": "5f48c576-84d1-42d5-9e57-2816f9d7a8cf",
   "metadata": {},
   "source": [
    "On récupère les noeuds dans l'odre de filtrage"
   ]
  },
  {
   "cell_type": "code",
   "execution_count": null,
   "id": "453500a5-314e-463d-bb64-292b96070aff",
   "metadata": {},
   "outputs": [],
   "source": [
    "print([node.path for node in wp.get_level(3, 'natural')])"
   ]
  },
  {
   "cell_type": "markdown",
   "id": "4c38761c-9176-4431-adb9-577d39a68959",
   "metadata": {},
   "source": [
    "On récupère les noeuds dans l'ordre de fréquence "
   ]
  },
  {
   "cell_type": "code",
   "execution_count": null,
   "id": "d31fb978-9e7a-443e-a601-c1ad82eed756",
   "metadata": {},
   "outputs": [],
   "source": [
    "print([node.path for node in wp.get_level(3, 'freq')])"
   ]
  },
  {
   "cell_type": "code",
   "execution_count": null,
   "id": "78d3e3c8-4dc2-41a4-9a77-af2eb191922c",
   "metadata": {},
   "outputs": [],
   "source": [
    "lst_coeffs_by_f = [node.path for node in wp.get_level(wp.maxlevel, 'freq')]\n",
    "\n",
    "print(lst_coeffs_by_f[:10])"
   ]
  },
  {
   "cell_type": "markdown",
   "id": "0af305f0-d543-4c6f-9437-10600bc870e7",
   "metadata": {},
   "source": [
    "#### On modifie et reconstruit"
   ]
  },
  {
   "cell_type": "code",
   "execution_count": null,
   "id": "9abe9ce1-7887-4ca2-870c-995e72fa7c25",
   "metadata": {},
   "outputs": [],
   "source": [
    "wp2 = pywt.WaveletPacket(data=None, wavelet=w)\n",
    "for i,node in enumerate(lst_coeffs_by_f):\n",
    "    if i<10:\n",
    "        wp2[node] = wp[node].data\n",
    "    else:\n",
    "        wp2[node] = np.zeros_like(wp[node].data)\n"
   ]
  },
  {
   "cell_type": "code",
   "execution_count": null,
   "id": "da4b235a-1611-4232-bd65-eb0e5157a492",
   "metadata": {},
   "outputs": [],
   "source": [
    "new_sign = wp2.reconstruct(update=True)"
   ]
  },
  {
   "cell_type": "code",
   "execution_count": null,
   "id": "d604514a-b497-44c2-932b-ab5d5181cbb9",
   "metadata": {},
   "outputs": [],
   "source": [
    "plot_estim(new_sign, signal, title = \"Wavelet reconstruction packet decomposition keep\")"
   ]
  },
  {
   "cell_type": "markdown",
   "id": "426c7cf5-c42c-431d-8c60-6db237239e53",
   "metadata": {},
   "source": [
    "On peut utiliser un score utilisé en compression d'image"
   ]
  },
  {
   "cell_type": "code",
   "execution_count": null,
   "id": "6a73ea3a-489d-4c75-b60a-5e55af5032f2",
   "metadata": {},
   "outputs": [],
   "source": [
    "def calculate_psnr(img1, img2, max_value=255):\n",
    "    \"\"\"\"Calculating peak signal-to-noise ratio (PSNR) between two images.\"\"\"\n",
    "    mse = np.mean((np.array(img1, dtype=np.float32) - np.array(img2, dtype=np.float32)) ** 2)\n",
    "    if mse == 0:\n",
    "        return 100\n",
    "    return 20 * np.log10(max_value / (np.sqrt(mse)))"
   ]
  },
  {
   "cell_type": "code",
   "execution_count": null,
   "id": "57145ba7-0203-4e42-94e6-109a0c58c2b9",
   "metadata": {},
   "outputs": [],
   "source": [
    "fig = go.Figure(\n",
    "        layout=go.Layout(\n",
    "            height=600, \n",
    "            width=800, \n",
    "            template = \"plotly_dark\", \n",
    "            title = f\"Wavelet Packet : keep low frequencies\"\n",
    "    ))\n",
    "lst_nkeep = list(range(5,50,5))\n",
    "pal = my_pal(len(lst_nkeep))\n",
    "\n",
    "for k,nkeep in  enumerate(lst_nkeep):\n",
    "    wp2 = pywt.WaveletPacket(data=None, wavelet=w)\n",
    "    for i,node in enumerate(lst_coeffs_by_f):\n",
    "        if i<nkeep:\n",
    "            wp2[node] = wp[node].data\n",
    "        else:\n",
    "            wp2[node] = np.zeros_like(wp[node].data)\n",
    "    new_sign = wp2.reconstruct(update=True)\n",
    "    psnr = calculate_psnr(signal, new_sign[:signal.shape[0]], max_value=np.max(signal))\n",
    "    add_fig(fig, new_sign, pal[k] ,f\"packet decomposition keep {nkeep} PSNR {np.round(psnr,3)}\")\n",
    "fig.show()"
   ]
  },
  {
   "cell_type": "markdown",
   "id": "8d8cf4b8-e691-4fc6-b2fc-62d6e843e35b",
   "metadata": {},
   "source": [
    "## Scalogram continuous"
   ]
  },
  {
   "cell_type": "markdown",
   "id": "5dae78e4-3bde-4483-8bb1-2a0a9a19b552",
   "metadata": {},
   "source": [
    "C'est super long!"
   ]
  },
  {
   "cell_type": "code",
   "execution_count": null,
   "id": "f93990a3-88dd-45e0-9d1f-9d37304caaee",
   "metadata": {},
   "outputs": [],
   "source": [
    "fs = 500\n",
    "scales = np.arange(1,signal.shape[0], 10)\n",
    "print(scales)\n",
    "coef, freqs = pywt.cwt(signal, scales=scales, wavelet='gaus1')"
   ]
  },
  {
   "cell_type": "code",
   "execution_count": null,
   "id": "d46b74f2-b282-42e3-9993-e5be646545a1",
   "metadata": {},
   "outputs": [],
   "source": [
    "print(coef.shape)"
   ]
  },
  {
   "cell_type": "code",
   "execution_count": null,
   "id": "154f7f83-7ded-4b4a-9195-be002061b460",
   "metadata": {},
   "outputs": [],
   "source": [
    "sns.heatmap(np.abs(coef))\n",
    "plt.xticks(np.arange(0, 5000/fs, 5000/(scales[0]*fs)))\n",
    "plt.show()"
   ]
  },
  {
   "cell_type": "code",
   "execution_count": null,
   "id": "8a3d47e5-4cf4-404d-8f84-05b7d5af1a37",
   "metadata": {},
   "outputs": [],
   "source": []
  }
 ],
 "metadata": {
  "kernelspec": {
   "display_name": "Python 3 (ipykernel)",
   "language": "python",
   "name": "python3"
  },
  "language_info": {
   "codemirror_mode": {
    "name": "ipython",
    "version": 3
   },
   "file_extension": ".py",
   "mimetype": "text/x-python",
   "name": "python",
   "nbconvert_exporter": "python",
   "pygments_lexer": "ipython3",
   "version": "3.9.18"
  }
 },
 "nbformat": 4,
 "nbformat_minor": 5
}
